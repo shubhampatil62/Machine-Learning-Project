{
 "cells": [
  {
   "cell_type": "markdown",
   "id": "ef9edff8-7175-4e27-b890-4030a3ce9784",
   "metadata": {},
   "source": [
    "## <h2 style='color:red'>Regression  Analysis  : </h2>"
   ]
  },
  {
   "cell_type": "markdown",
   "id": "c43c3645-53e0-4673-8b2f-55e9b58e6dfe",
   "metadata": {},
   "source": [
    "- **Import liabraries and read dataset**"
   ]
  },
  {
   "cell_type": "code",
   "execution_count": 145,
   "id": "0bfc32ec-994a-4e3b-92fd-16c40fdc2f67",
   "metadata": {},
   "outputs": [],
   "source": [
    "import matplotlib.pyplot as plt\n",
    "import seaborn as sns\n",
    "import numpy as np\n",
    "import pandas as pd\n",
    "import sklearn \n",
    "%matplotlib inline"
   ]
  },
  {
   "cell_type": "code",
   "execution_count": 146,
   "id": "75919b08-90eb-4014-914a-e8a24c32aa43",
   "metadata": {},
   "outputs": [
    {
     "data": {
      "text/html": [
       "<div>\n",
       "<style scoped>\n",
       "    .dataframe tbody tr th:only-of-type {\n",
       "        vertical-align: middle;\n",
       "    }\n",
       "\n",
       "    .dataframe tbody tr th {\n",
       "        vertical-align: top;\n",
       "    }\n",
       "\n",
       "    .dataframe thead th {\n",
       "        text-align: right;\n",
       "    }\n",
       "</style>\n",
       "<table border=\"1\" class=\"dataframe\">\n",
       "  <thead>\n",
       "    <tr style=\"text-align: right;\">\n",
       "      <th></th>\n",
       "      <th>R&amp;D Spend</th>\n",
       "      <th>Administration</th>\n",
       "      <th>Marketing Spend</th>\n",
       "      <th>State</th>\n",
       "      <th>Profit</th>\n",
       "    </tr>\n",
       "  </thead>\n",
       "  <tbody>\n",
       "    <tr>\n",
       "      <th>0</th>\n",
       "      <td>165349.20</td>\n",
       "      <td>136897.80</td>\n",
       "      <td>471784.10</td>\n",
       "      <td>New York</td>\n",
       "      <td>192261.83</td>\n",
       "    </tr>\n",
       "    <tr>\n",
       "      <th>1</th>\n",
       "      <td>162597.70</td>\n",
       "      <td>151377.59</td>\n",
       "      <td>443898.53</td>\n",
       "      <td>California</td>\n",
       "      <td>191792.06</td>\n",
       "    </tr>\n",
       "    <tr>\n",
       "      <th>2</th>\n",
       "      <td>153441.51</td>\n",
       "      <td>101145.55</td>\n",
       "      <td>407934.54</td>\n",
       "      <td>Florida</td>\n",
       "      <td>191050.39</td>\n",
       "    </tr>\n",
       "    <tr>\n",
       "      <th>3</th>\n",
       "      <td>144372.41</td>\n",
       "      <td>118671.85</td>\n",
       "      <td>383199.62</td>\n",
       "      <td>New York</td>\n",
       "      <td>182901.99</td>\n",
       "    </tr>\n",
       "    <tr>\n",
       "      <th>4</th>\n",
       "      <td>142107.34</td>\n",
       "      <td>91391.77</td>\n",
       "      <td>366168.42</td>\n",
       "      <td>Florida</td>\n",
       "      <td>166187.94</td>\n",
       "    </tr>\n",
       "  </tbody>\n",
       "</table>\n",
       "</div>"
      ],
      "text/plain": [
       "   R&D Spend  Administration  Marketing Spend       State     Profit\n",
       "0  165349.20       136897.80        471784.10    New York  192261.83\n",
       "1  162597.70       151377.59        443898.53  California  191792.06\n",
       "2  153441.51       101145.55        407934.54     Florida  191050.39\n",
       "3  144372.41       118671.85        383199.62    New York  182901.99\n",
       "4  142107.34        91391.77        366168.42     Florida  166187.94"
      ]
     },
     "execution_count": 146,
     "metadata": {},
     "output_type": "execute_result"
    }
   ],
   "source": [
    "df=pd.read_csv('50_Startups.csv')\n",
    "df.head()"
   ]
  },
  {
   "cell_type": "code",
   "execution_count": 147,
   "id": "30efff29-44c9-4f1f-b574-3f3aa0e084d3",
   "metadata": {},
   "outputs": [
    {
     "data": {
      "text/html": [
       "<div>\n",
       "<style scoped>\n",
       "    .dataframe tbody tr th:only-of-type {\n",
       "        vertical-align: middle;\n",
       "    }\n",
       "\n",
       "    .dataframe tbody tr th {\n",
       "        vertical-align: top;\n",
       "    }\n",
       "\n",
       "    .dataframe thead th {\n",
       "        text-align: right;\n",
       "    }\n",
       "</style>\n",
       "<table border=\"1\" class=\"dataframe\">\n",
       "  <thead>\n",
       "    <tr style=\"text-align: right;\">\n",
       "      <th></th>\n",
       "      <th>R&amp;D Spend</th>\n",
       "      <th>Administration</th>\n",
       "      <th>Marketing Spend</th>\n",
       "      <th>State</th>\n",
       "      <th>Profit</th>\n",
       "    </tr>\n",
       "  </thead>\n",
       "  <tbody>\n",
       "    <tr>\n",
       "      <th>45</th>\n",
       "      <td>1000.23</td>\n",
       "      <td>124153.04</td>\n",
       "      <td>1903.93</td>\n",
       "      <td>New York</td>\n",
       "      <td>64926.08</td>\n",
       "    </tr>\n",
       "    <tr>\n",
       "      <th>46</th>\n",
       "      <td>1315.46</td>\n",
       "      <td>115816.21</td>\n",
       "      <td>297114.46</td>\n",
       "      <td>Florida</td>\n",
       "      <td>49490.75</td>\n",
       "    </tr>\n",
       "    <tr>\n",
       "      <th>47</th>\n",
       "      <td>0.00</td>\n",
       "      <td>135426.92</td>\n",
       "      <td>0.00</td>\n",
       "      <td>California</td>\n",
       "      <td>42559.73</td>\n",
       "    </tr>\n",
       "    <tr>\n",
       "      <th>48</th>\n",
       "      <td>542.05</td>\n",
       "      <td>51743.15</td>\n",
       "      <td>0.00</td>\n",
       "      <td>New York</td>\n",
       "      <td>35673.41</td>\n",
       "    </tr>\n",
       "    <tr>\n",
       "      <th>49</th>\n",
       "      <td>0.00</td>\n",
       "      <td>116983.80</td>\n",
       "      <td>45173.06</td>\n",
       "      <td>California</td>\n",
       "      <td>14681.40</td>\n",
       "    </tr>\n",
       "  </tbody>\n",
       "</table>\n",
       "</div>"
      ],
      "text/plain": [
       "    R&D Spend  Administration  Marketing Spend       State    Profit\n",
       "45    1000.23       124153.04          1903.93    New York  64926.08\n",
       "46    1315.46       115816.21        297114.46     Florida  49490.75\n",
       "47       0.00       135426.92             0.00  California  42559.73\n",
       "48     542.05        51743.15             0.00    New York  35673.41\n",
       "49       0.00       116983.80         45173.06  California  14681.40"
      ]
     },
     "execution_count": 147,
     "metadata": {},
     "output_type": "execute_result"
    }
   ],
   "source": [
    "df.tail()"
   ]
  },
  {
   "cell_type": "code",
   "execution_count": 148,
   "id": "b50d17c5-6424-4d0f-b7ce-4f5ad4003b26",
   "metadata": {},
   "outputs": [
    {
     "data": {
      "text/html": [
       "<div>\n",
       "<style scoped>\n",
       "    .dataframe tbody tr th:only-of-type {\n",
       "        vertical-align: middle;\n",
       "    }\n",
       "\n",
       "    .dataframe tbody tr th {\n",
       "        vertical-align: top;\n",
       "    }\n",
       "\n",
       "    .dataframe thead th {\n",
       "        text-align: right;\n",
       "    }\n",
       "</style>\n",
       "<table border=\"1\" class=\"dataframe\">\n",
       "  <thead>\n",
       "    <tr style=\"text-align: right;\">\n",
       "      <th></th>\n",
       "      <th>R&amp;D Spend</th>\n",
       "      <th>Administration</th>\n",
       "      <th>Marketing Spend</th>\n",
       "      <th>Profit</th>\n",
       "    </tr>\n",
       "  </thead>\n",
       "  <tbody>\n",
       "    <tr>\n",
       "      <th>count</th>\n",
       "      <td>50.000000</td>\n",
       "      <td>50.000000</td>\n",
       "      <td>50.000000</td>\n",
       "      <td>50.000000</td>\n",
       "    </tr>\n",
       "    <tr>\n",
       "      <th>mean</th>\n",
       "      <td>73721.615600</td>\n",
       "      <td>121344.639600</td>\n",
       "      <td>211025.097800</td>\n",
       "      <td>112012.639200</td>\n",
       "    </tr>\n",
       "    <tr>\n",
       "      <th>std</th>\n",
       "      <td>45902.256482</td>\n",
       "      <td>28017.802755</td>\n",
       "      <td>122290.310726</td>\n",
       "      <td>40306.180338</td>\n",
       "    </tr>\n",
       "    <tr>\n",
       "      <th>min</th>\n",
       "      <td>0.000000</td>\n",
       "      <td>51283.140000</td>\n",
       "      <td>0.000000</td>\n",
       "      <td>14681.400000</td>\n",
       "    </tr>\n",
       "    <tr>\n",
       "      <th>25%</th>\n",
       "      <td>39936.370000</td>\n",
       "      <td>103730.875000</td>\n",
       "      <td>129300.132500</td>\n",
       "      <td>90138.902500</td>\n",
       "    </tr>\n",
       "    <tr>\n",
       "      <th>50%</th>\n",
       "      <td>73051.080000</td>\n",
       "      <td>122699.795000</td>\n",
       "      <td>212716.240000</td>\n",
       "      <td>107978.190000</td>\n",
       "    </tr>\n",
       "    <tr>\n",
       "      <th>75%</th>\n",
       "      <td>101602.800000</td>\n",
       "      <td>144842.180000</td>\n",
       "      <td>299469.085000</td>\n",
       "      <td>139765.977500</td>\n",
       "    </tr>\n",
       "    <tr>\n",
       "      <th>max</th>\n",
       "      <td>165349.200000</td>\n",
       "      <td>182645.560000</td>\n",
       "      <td>471784.100000</td>\n",
       "      <td>192261.830000</td>\n",
       "    </tr>\n",
       "  </tbody>\n",
       "</table>\n",
       "</div>"
      ],
      "text/plain": [
       "           R&D Spend  Administration  Marketing Spend         Profit\n",
       "count      50.000000       50.000000        50.000000      50.000000\n",
       "mean    73721.615600   121344.639600    211025.097800  112012.639200\n",
       "std     45902.256482    28017.802755    122290.310726   40306.180338\n",
       "min         0.000000    51283.140000         0.000000   14681.400000\n",
       "25%     39936.370000   103730.875000    129300.132500   90138.902500\n",
       "50%     73051.080000   122699.795000    212716.240000  107978.190000\n",
       "75%    101602.800000   144842.180000    299469.085000  139765.977500\n",
       "max    165349.200000   182645.560000    471784.100000  192261.830000"
      ]
     },
     "execution_count": 148,
     "metadata": {},
     "output_type": "execute_result"
    }
   ],
   "source": [
    "df.describe()"
   ]
  },
  {
   "cell_type": "code",
   "execution_count": 149,
   "id": "3ae77967-0a5e-41e3-9aa6-bdc62cf28cdb",
   "metadata": {},
   "outputs": [
    {
     "name": "stdout",
     "output_type": "stream",
     "text": [
      "<class 'pandas.core.frame.DataFrame'>\n",
      "RangeIndex: 50 entries, 0 to 49\n",
      "Data columns (total 5 columns):\n",
      " #   Column           Non-Null Count  Dtype  \n",
      "---  ------           --------------  -----  \n",
      " 0   R&D Spend        50 non-null     float64\n",
      " 1   Administration   50 non-null     float64\n",
      " 2   Marketing Spend  50 non-null     float64\n",
      " 3   State            50 non-null     object \n",
      " 4   Profit           50 non-null     float64\n",
      "dtypes: float64(4), object(1)\n",
      "memory usage: 2.1+ KB\n"
     ]
    }
   ],
   "source": [
    "df.info()"
   ]
  },
  {
   "cell_type": "markdown",
   "id": "835be06b-84cf-463d-a761-0cfeefbfe222",
   "metadata": {},
   "source": [
    "**Checking For Null values**"
   ]
  },
  {
   "cell_type": "code",
   "execution_count": 150,
   "id": "501a7e96-a4e1-423c-b39a-7773bf37aa2a",
   "metadata": {},
   "outputs": [
    {
     "data": {
      "text/plain": [
       "R&D Spend          0\n",
       "Administration     0\n",
       "Marketing Spend    0\n",
       "State              0\n",
       "Profit             0\n",
       "dtype: int64"
      ]
     },
     "execution_count": 150,
     "metadata": {},
     "output_type": "execute_result"
    }
   ],
   "source": [
    "df.isnull().sum()"
   ]
  },
  {
   "cell_type": "markdown",
   "id": "e66ef3d8-3837-4f08-ba15-3d91dbee4611",
   "metadata": {},
   "source": [
    "- In this dataset there is no null value present.therefore no need to fill these value"
   ]
  },
  {
   "cell_type": "markdown",
   "id": "e1ae6867-6c94-483d-99f1-6e3ed7c13ab4",
   "metadata": {},
   "source": [
    "## Exploratory Data Analysis :"
   ]
  },
  {
   "cell_type": "code",
   "execution_count": 151,
   "id": "60f935ff-c5e4-477f-a8f3-c52ad2de1c6b",
   "metadata": {},
   "outputs": [
    {
     "data": {
      "text/html": [
       "<div>\n",
       "<style scoped>\n",
       "    .dataframe tbody tr th:only-of-type {\n",
       "        vertical-align: middle;\n",
       "    }\n",
       "\n",
       "    .dataframe tbody tr th {\n",
       "        vertical-align: top;\n",
       "    }\n",
       "\n",
       "    .dataframe thead th {\n",
       "        text-align: right;\n",
       "    }\n",
       "</style>\n",
       "<table border=\"1\" class=\"dataframe\">\n",
       "  <thead>\n",
       "    <tr style=\"text-align: right;\">\n",
       "      <th></th>\n",
       "      <th>R&amp;D Spend</th>\n",
       "      <th>Administration</th>\n",
       "      <th>Marketing Spend</th>\n",
       "      <th>Profit</th>\n",
       "    </tr>\n",
       "  </thead>\n",
       "  <tbody>\n",
       "    <tr>\n",
       "      <th>R&amp;D Spend</th>\n",
       "      <td>1.000000</td>\n",
       "      <td>0.241955</td>\n",
       "      <td>0.724248</td>\n",
       "      <td>0.972900</td>\n",
       "    </tr>\n",
       "    <tr>\n",
       "      <th>Administration</th>\n",
       "      <td>0.241955</td>\n",
       "      <td>1.000000</td>\n",
       "      <td>-0.032154</td>\n",
       "      <td>0.200717</td>\n",
       "    </tr>\n",
       "    <tr>\n",
       "      <th>Marketing Spend</th>\n",
       "      <td>0.724248</td>\n",
       "      <td>-0.032154</td>\n",
       "      <td>1.000000</td>\n",
       "      <td>0.747766</td>\n",
       "    </tr>\n",
       "    <tr>\n",
       "      <th>Profit</th>\n",
       "      <td>0.972900</td>\n",
       "      <td>0.200717</td>\n",
       "      <td>0.747766</td>\n",
       "      <td>1.000000</td>\n",
       "    </tr>\n",
       "  </tbody>\n",
       "</table>\n",
       "</div>"
      ],
      "text/plain": [
       "                 R&D Spend  Administration  Marketing Spend    Profit\n",
       "R&D Spend         1.000000        0.241955         0.724248  0.972900\n",
       "Administration    0.241955        1.000000        -0.032154  0.200717\n",
       "Marketing Spend   0.724248       -0.032154         1.000000  0.747766\n",
       "Profit            0.972900        0.200717         0.747766  1.000000"
      ]
     },
     "execution_count": 151,
     "metadata": {},
     "output_type": "execute_result"
    }
   ],
   "source": [
    "df.corr()"
   ]
  },
  {
   "cell_type": "code",
   "execution_count": 152,
   "id": "167adfa5-a00b-43ab-8faa-23db2a837573",
   "metadata": {},
   "outputs": [
    {
     "data": {
      "image/png": "[encoded data removed]",
      "text/plain": [
       "<Figure size 576x576 with 20 Axes>"
      ]
     },
     "metadata": {
      "needs_background": "light"
     },
     "output_type": "display_data"
    }
   ],
   "source": [
    "sns.pairplot(df,height=2);\n",
    "plt.show()"
   ]
  },
  {
   "cell_type": "code",
   "execution_count": 153,
   "id": "ed91c776-8d2d-44b9-8236-7a7c69b34489",
   "metadata": {},
   "outputs": [
    {
     "data": {
      "image/png": "[encoded data removed]",
      "text/plain": [
       "<Figure size 864x576 with 2 Axes>"
      ]
     },
     "metadata": {
      "needs_background": "light"
     },
     "output_type": "display_data"
    }
   ],
   "source": [
    "plt.figure(figsize=(12,8))\n",
    "sns.heatmap(df.corr(),annot=True,fmt=\".2f\")\n",
    "plt.show()"
   ]
  },
  {
   "cell_type": "markdown",
   "id": "2ef8773f-bfcc-4a18-9e80-ff174e8adfc7",
   "metadata": {},
   "source": [
    "<h2 style='color:blue'>Categorical Values Handling  : </h2>"
   ]
  },
  {
   "cell_type": "markdown",
   "id": "bcb6f32a-fa7c-44f8-862e-778c9ef5d2e6",
   "metadata": {},
   "source": [
    "- **In above dataset, we can clearly see that there are five variables, in which four variables are continuous and one is categorical variable.**\n",
    "\n",
    "- **categorical variables which are not suitable to apply directly for fitting the model. So we need to encode this variable.**\n",
    "\n",
    "- **By using Label Encoding we can handel the Categorical value.**"
   ]
  },
  {
   "cell_type": "code",
   "execution_count": 154,
   "id": "d6e6acaf-6ae2-4db6-9175-4aa4b0fed95d",
   "metadata": {},
   "outputs": [],
   "source": [
    "from sklearn import preprocessing   \n",
    "obj = preprocessing.LabelEncoder()  "
   ]
  },
  {
   "cell_type": "code",
   "execution_count": 155,
   "id": "35d628ec-61fc-4ec8-9e1a-dd1573f40546",
   "metadata": {},
   "outputs": [
    {
     "data": {
      "text/plain": [
       "array([2, 0, 1])"
      ]
     },
     "execution_count": 155,
     "metadata": {},
     "output_type": "execute_result"
    }
   ],
   "source": [
    "df[ 'State' ]= obj.fit_transform(df[ 'State' ])   \n",
    "(df[ 'State' ].unique())  "
   ]
  },
  {
   "cell_type": "code",
   "execution_count": 156,
   "id": "b9ce79e6-816c-4a20-aa1b-0003fe2b5737",
   "metadata": {},
   "outputs": [
    {
     "data": {
      "text/html": [
       "<div>\n",
       "<style scoped>\n",
       "    .dataframe tbody tr th:only-of-type {\n",
       "        vertical-align: middle;\n",
       "    }\n",
       "\n",
       "    .dataframe tbody tr th {\n",
       "        vertical-align: top;\n",
       "    }\n",
       "\n",
       "    .dataframe thead th {\n",
       "        text-align: right;\n",
       "    }\n",
       "</style>\n",
       "<table border=\"1\" class=\"dataframe\">\n",
       "  <thead>\n",
       "    <tr style=\"text-align: right;\">\n",
       "      <th></th>\n",
       "      <th>R&amp;D Spend</th>\n",
       "      <th>Administration</th>\n",
       "      <th>Marketing Spend</th>\n",
       "      <th>State</th>\n",
       "      <th>Profit</th>\n",
       "    </tr>\n",
       "  </thead>\n",
       "  <tbody>\n",
       "    <tr>\n",
       "      <th>0</th>\n",
       "      <td>165349.20</td>\n",
       "      <td>136897.80</td>\n",
       "      <td>471784.10</td>\n",
       "      <td>2</td>\n",
       "      <td>192261.83</td>\n",
       "    </tr>\n",
       "    <tr>\n",
       "      <th>1</th>\n",
       "      <td>162597.70</td>\n",
       "      <td>151377.59</td>\n",
       "      <td>443898.53</td>\n",
       "      <td>0</td>\n",
       "      <td>191792.06</td>\n",
       "    </tr>\n",
       "    <tr>\n",
       "      <th>2</th>\n",
       "      <td>153441.51</td>\n",
       "      <td>101145.55</td>\n",
       "      <td>407934.54</td>\n",
       "      <td>1</td>\n",
       "      <td>191050.39</td>\n",
       "    </tr>\n",
       "    <tr>\n",
       "      <th>3</th>\n",
       "      <td>144372.41</td>\n",
       "      <td>118671.85</td>\n",
       "      <td>383199.62</td>\n",
       "      <td>2</td>\n",
       "      <td>182901.99</td>\n",
       "    </tr>\n",
       "    <tr>\n",
       "      <th>4</th>\n",
       "      <td>142107.34</td>\n",
       "      <td>91391.77</td>\n",
       "      <td>366168.42</td>\n",
       "      <td>1</td>\n",
       "      <td>166187.94</td>\n",
       "    </tr>\n",
       "  </tbody>\n",
       "</table>\n",
       "</div>"
      ],
      "text/plain": [
       "   R&D Spend  Administration  Marketing Spend  State     Profit\n",
       "0  165349.20       136897.80        471784.10      2  192261.83\n",
       "1  162597.70       151377.59        443898.53      0  191792.06\n",
       "2  153441.51       101145.55        407934.54      1  191050.39\n",
       "3  144372.41       118671.85        383199.62      2  182901.99\n",
       "4  142107.34        91391.77        366168.42      1  166187.94"
      ]
     },
     "execution_count": 156,
     "metadata": {},
     "output_type": "execute_result"
    }
   ],
   "source": [
    "df.head()"
   ]
  },
  {
   "cell_type": "markdown",
   "id": "3198ed6c-1819-46fb-b47b-31f9520c32ef",
   "metadata": {},
   "source": [
    "- **Handling the Outlier :**"
   ]
  },
  {
   "cell_type": "code",
   "execution_count": 157,
   "id": "99f2b3a6-6afb-4640-bc80-0cbe4e8399a6",
   "metadata": {},
   "outputs": [
    {
     "data": {
      "text/plain": [
       "<AxesSubplot:xlabel='R&D Spend'>"
      ]
     },
     "execution_count": 157,
     "metadata": {},
     "output_type": "execute_result"
    },
    {
     "data": {
      "image/png": "[encoded data removed]",
      "text/plain": [
       "<Figure size 432x288 with 1 Axes>"
      ]
     },
     "metadata": {
      "needs_background": "light"
     },
     "output_type": "display_data"
    }
   ],
   "source": [
    "sns.boxplot(x='R&D Spend',data=df,orient='h')"
   ]
  },
  {
   "cell_type": "code",
   "execution_count": 158,
   "id": "397b0397-0a26-4219-bc69-73464a1d23a9",
   "metadata": {},
   "outputs": [
    {
     "data": {
      "text/plain": [
       "<AxesSubplot:xlabel='Administration'>"
      ]
     },
     "execution_count": 158,
     "metadata": {},
     "output_type": "execute_result"
    },
    {
     "data": {
      "image/png": "[encoded data removed]",
      "text/plain": [
       "<Figure size 432x288 with 1 Axes>"
      ]
     },
     "metadata": {
      "needs_background": "light"
     },
     "output_type": "display_data"
    }
   ],
   "source": [
    "sns.boxplot(x='Administration',data=df,orient=\"h\")"
   ]
  },
  {
   "cell_type": "code",
   "execution_count": 159,
   "id": "6537240c-90fc-4417-93cc-4634b2ff6a90",
   "metadata": {},
   "outputs": [
    {
     "data": {
      "text/plain": [
       "<AxesSubplot:xlabel='Marketing Spend'>"
      ]
     },
     "execution_count": 159,
     "metadata": {},
     "output_type": "execute_result"
    },
    {
     "data": {
      "image/png": "[encoded data removed]",
      "text/plain": [
       "<Figure size 432x288 with 1 Axes>"
      ]
     },
     "metadata": {
      "needs_background": "light"
     },
     "output_type": "display_data"
    }
   ],
   "source": [
    "sns.boxplot(x='Marketing Spend',data=df,orient='h')"
   ]
  },
  {
   "cell_type": "code",
   "execution_count": 160,
   "id": "0b1c70f1-2779-4f29-9928-b3f796ffa49d",
   "metadata": {},
   "outputs": [
    {
     "data": {
      "text/plain": [
       "<AxesSubplot:xlabel='State'>"
      ]
     },
     "execution_count": 160,
     "metadata": {},
     "output_type": "execute_result"
    },
    {
     "data": {
      "image/png": "[encoded data removed]",
      "text/plain": [
       "<Figure size 432x288 with 1 Axes>"
      ]
     },
     "metadata": {
      "needs_background": "light"
     },
     "output_type": "display_data"
    }
   ],
   "source": [
    "sns.boxplot(x='State',data=df,orient='h')"
   ]
  },
  {
   "cell_type": "markdown",
   "id": "082090d3-a365-4dc4-881d-06a84c48cee5",
   "metadata": {},
   "source": [
    "- There is no Outliers present in our dataset so no need to handle it.\n",
    "- if Outliers are present in dataset then handle them by using Quartile or Z-score method."
   ]
  },
  {
   "cell_type": "markdown",
   "id": "1fea0993-2125-4dee-a0c7-65798e4439c9",
   "metadata": {},
   "source": [
    "## Handling the Skewness :"
   ]
  },
  {
   "cell_type": "markdown",
   "id": "e0b233c5-34e0-4b4d-8d40-e163357b771a",
   "metadata": {},
   "source": [
    "- **Reduce or remove the skewness for only those column whose correlation with the target is not good**"
   ]
  },
  {
   "cell_type": "code",
   "execution_count": 161,
   "id": "65483c69-d630-43fa-924a-e5e7c6ab7f33",
   "metadata": {},
   "outputs": [],
   "source": [
    "from scipy.stats import skew"
   ]
  },
  {
   "cell_type": "code",
   "execution_count": 162,
   "id": "905c8bc2-1cf4-4472-89f4-ae610ad65af9",
   "metadata": {},
   "outputs": [
    {
     "name": "stdout",
     "output_type": "stream",
     "text": [
      "R&D Spend\n",
      "0.15904052321503395\n"
     ]
    },
    {
     "name": "stderr",
     "output_type": "stream",
     "text": [
      "C:\\Users\\sravh\\anaconda3\\lib\\site-packages\\seaborn\\distributions.py:2619: FutureWarning: `distplot` is a deprecated function and will be removed in a future version. Please adapt your code to use either `displot` (a figure-level function with similar flexibility) or `histplot` (an axes-level function for histograms).\n",
      "  warnings.warn(msg, FutureWarning)\n"
     ]
    },
    {
     "data": {
      "image/png": "[encoded data removed]",
      "text/plain": [
       "<Figure size 432x288 with 1 Axes>"
      ]
     },
     "metadata": {
      "needs_background": "light"
     },
     "output_type": "display_data"
    },
    {
     "name": "stdout",
     "output_type": "stream",
     "text": [
      "Administration\n",
      "-0.4742300698920047\n"
     ]
    },
    {
     "name": "stderr",
     "output_type": "stream",
     "text": [
      "C:\\Users\\sravh\\anaconda3\\lib\\site-packages\\seaborn\\distributions.py:2619: FutureWarning: `distplot` is a deprecated function and will be removed in a future version. Please adapt your code to use either `displot` (a figure-level function with similar flexibility) or `histplot` (an axes-level function for histograms).\n",
      "  warnings.warn(msg, FutureWarning)\n"
     ]
    },
    {
     "data": {
      "image/png": "[encoded data removed]",
      "text/plain": [
       "<Figure size 432x288 with 1 Axes>"
      ]
     },
     "metadata": {
      "needs_background": "light"
     },
     "output_type": "display_data"
    },
    {
     "name": "stdout",
     "output_type": "stream",
     "text": [
      "Marketing Spend\n",
      "-0.04506631617666136\n"
     ]
    },
    {
     "name": "stderr",
     "output_type": "stream",
     "text": [
      "C:\\Users\\sravh\\anaconda3\\lib\\site-packages\\seaborn\\distributions.py:2619: FutureWarning: `distplot` is a deprecated function and will be removed in a future version. Please adapt your code to use either `displot` (a figure-level function with similar flexibility) or `histplot` (an axes-level function for histograms).\n",
      "  warnings.warn(msg, FutureWarning)\n"
     ]
    },
    {
     "data": {
      "image/png": "[encoded data removed]",
      "text/plain": [
       "<Figure size 432x288 with 1 Axes>"
      ]
     },
     "metadata": {
      "needs_background": "light"
     },
     "output_type": "display_data"
    },
    {
     "name": "stderr",
     "output_type": "stream",
     "text": [
      "C:\\Users\\sravh\\anaconda3\\lib\\site-packages\\seaborn\\distributions.py:2619: FutureWarning: `distplot` is a deprecated function and will be removed in a future version. Please adapt your code to use either `displot` (a figure-level function with similar flexibility) or `histplot` (an axes-level function for histograms).\n",
      "  warnings.warn(msg, FutureWarning)\n"
     ]
    },
    {
     "name": "stdout",
     "output_type": "stream",
     "text": [
      "State\n",
      "0.0\n"
     ]
    },
    {
     "data": {
      "image/png": "[encoded data removed]",
      "text/plain": [
       "<Figure size 432x288 with 1 Axes>"
      ]
     },
     "metadata": {
      "needs_background": "light"
     },
     "output_type": "display_data"
    },
    {
     "name": "stderr",
     "output_type": "stream",
     "text": [
      "C:\\Users\\sravh\\anaconda3\\lib\\site-packages\\seaborn\\distributions.py:2619: FutureWarning: `distplot` is a deprecated function and will be removed in a future version. Please adapt your code to use either `displot` (a figure-level function with similar flexibility) or `histplot` (an axes-level function for histograms).\n",
      "  warnings.warn(msg, FutureWarning)\n"
     ]
    },
    {
     "name": "stdout",
     "output_type": "stream",
     "text": [
      "Profit\n",
      "0.02258638356958943\n"
     ]
    },
    {
     "data": {
      "image/png": "[encoded data removed]",
      "text/plain": [
       "<Figure size 432x288 with 1 Axes>"
      ]
     },
     "metadata": {
      "needs_background": "light"
     },
     "output_type": "display_data"
    }
   ],
   "source": [
    "for col in df:\n",
    "    print(col)\n",
    "    print(skew(df[col]))\n",
    "    \n",
    "    plt.figure()\n",
    "    sns.distplot(df[col])\n",
    "    plt.show()\n",
    "          "
   ]
  },
  {
   "cell_type": "markdown",
   "id": "63a4a7a2-bdd1-420f-bc86-c0df603a7210",
   "metadata": {},
   "source": [
    "- now here we can handle the skewness, but only those columns whose correlation is not good with our target column because when we handling the skewness it affects on the correlation.\n",
    "\n",
    "- therefore we handle the skewness only  **Administration,Marketing Spend,State column.**"
   ]
  },
  {
   "cell_type": "code",
   "execution_count": 163,
   "id": "e2200b19-b964-4a1c-9602-0666d01f787d",
   "metadata": {},
   "outputs": [
    {
     "data": {
      "text/plain": [
       "-0.8568181418818248"
      ]
     },
     "execution_count": 163,
     "metadata": {},
     "output_type": "execute_result"
    }
   ],
   "source": [
    "# handling the skewness :\n",
    "df['Administration']=np.sqrt(df['Administration'])\n",
    "skew(df['Administration'])"
   ]
  },
  {
   "cell_type": "code",
   "execution_count": 164,
   "id": "362f5f2a-04c8-480e-bfd3-88c0bd87e803",
   "metadata": {},
   "outputs": [
    {
     "data": {
      "text/plain": [
       "-0.43590032519435823"
      ]
     },
     "execution_count": 164,
     "metadata": {},
     "output_type": "execute_result"
    }
   ],
   "source": [
    "df['State']=np.sqrt(df['State'])\n",
    "skew(df['State'])"
   ]
  },
  {
   "cell_type": "code",
   "execution_count": 165,
   "id": "5ccce11d-292c-4bba-9bec-756c2416dcce",
   "metadata": {},
   "outputs": [
    {
     "data": {
      "text/plain": [
       "-1.0269356702266887"
      ]
     },
     "execution_count": 165,
     "metadata": {},
     "output_type": "execute_result"
    }
   ],
   "source": [
    "df['Marketing Spend']=np.sqrt(df['Marketing Spend'])\n",
    "skew(df['Marketing Spend'])"
   ]
  },
  {
   "cell_type": "code",
   "execution_count": 166,
   "id": "b0eae8c8-b710-4d11-b592-c618ee0e00be",
   "metadata": {},
   "outputs": [
    {
     "data": {
      "image/png": "[encoded data removed]",
      "text/plain": [
       "<Figure size 864x576 with 2 Axes>"
      ]
     },
     "metadata": {
      "needs_background": "light"
     },
     "output_type": "display_data"
    }
   ],
   "source": [
    "plt.figure(figsize=(12,8))\n",
    "sns.heatmap(df.corr(),annot=True,fmt=\".2f\")\n",
    "plt.show()"
   ]
  },
  {
   "cell_type": "markdown",
   "id": "7f479d1c-cb19-42cf-8f4b-8f63cf9e6e99",
   "metadata": {},
   "source": [
    "- **Now our data is ready to apply the Machine learning algoritm :**\n",
    "\n",
    "- **Extracting dependent and independent Variables:**"
   ]
  },
  {
   "cell_type": "code",
   "execution_count": 167,
   "id": "39ceb19c-3b8d-45e9-900a-4768f50b7d38",
   "metadata": {},
   "outputs": [],
   "source": [
    "# Extracting dependent and independent Variables:\n",
    "X=df['R&D Spend'].values.reshape(-1,1)  "
   ]
  },
  {
   "cell_type": "code",
   "execution_count": 168,
   "id": "ee468ad9-29de-4efe-aef7-d2d9573ae239",
   "metadata": {},
   "outputs": [
    {
     "data": {
      "text/plain": [
       "50"
      ]
     },
     "execution_count": 168,
     "metadata": {},
     "output_type": "execute_result"
    }
   ],
   "source": [
    "X.size"
   ]
  },
  {
   "cell_type": "code",
   "execution_count": 169,
   "id": "e2b7aa69-4b43-4e3c-ad9c-fce95045f8f4",
   "metadata": {},
   "outputs": [],
   "source": [
    "# dependent variable\n",
    "y=df['Profit'].values"
   ]
  },
  {
   "cell_type": "markdown",
   "id": "839c1736-ef16-4360-8935-2037799fdeea",
   "metadata": {},
   "source": [
    "- **Now we will split the dataset into training and test Dataset.**"
   ]
  },
  {
   "cell_type": "code",
   "execution_count": 170,
   "id": "017e84b6-dce7-471a-b38f-c5cd4e7dbf08",
   "metadata": {},
   "outputs": [],
   "source": [
    "# Splitting the dataset into training and test set.  \n",
    "from sklearn.model_selection import train_test_split\n",
    "from sklearn.linear_model import LinearRegression \n",
    "\n",
    "X_train, X_test, y_train, y_test= train_test_split(X, y, test_size= 0.2, random_state=0) "
   ]
  },
  {
   "cell_type": "markdown",
   "id": "d992865d-2634-4571-99ee-a34b15b2473b",
   "metadata": {},
   "source": [
    "- Fitting the machine learning model to the training dataset."
   ]
  },
  {
   "cell_type": "code",
   "execution_count": 171,
   "id": "f285febb-5c80-4b98-bd28-899ce167cc7d",
   "metadata": {},
   "outputs": [],
   "source": [
    "reg= LinearRegression()  "
   ]
  },
  {
   "cell_type": "code",
   "execution_count": 172,
   "id": "8a68f541-0068-4c77-8844-5b1c441656b3",
   "metadata": {},
   "outputs": [
    {
     "data": {
      "text/plain": [
       "LinearRegression()"
      ]
     },
     "execution_count": 172,
     "metadata": {},
     "output_type": "execute_result"
    }
   ],
   "source": [
    "reg.fit(X_train, y_train)  "
   ]
  },
  {
   "cell_type": "markdown",
   "id": "2d09cd98-1acc-44e5-ac2a-88f23d57a2eb",
   "metadata": {},
   "source": [
    "- **Now, we have successfully trained our model using the training dataset.**"
   ]
  },
  {
   "cell_type": "markdown",
   "id": "2b886e48-0586-402c-afbd-d27498c72ff2",
   "metadata": {},
   "source": [
    "- we will test the performance of the model using the test dataset."
   ]
  },
  {
   "cell_type": "code",
   "execution_count": 173,
   "id": "402e4142-dab1-4678-851d-49c2febeb3e5",
   "metadata": {},
   "outputs": [],
   "source": [
    "#Predicting the Test Dataset result;  \n",
    "y_test_pred= reg.predict(X_test)"
   ]
  },
  {
   "cell_type": "code",
   "execution_count": 174,
   "id": "6712fdc9-8144-4cb7-a82c-82d2be8e538d",
   "metadata": {},
   "outputs": [],
   "source": [
    "y_train_pred=reg.predict(X_train)"
   ]
  },
  {
   "cell_type": "markdown",
   "id": "d786d900-23ca-404d-a084-6323244c789f",
   "metadata": {},
   "source": [
    "- **Now we calculate the Model intercept and coefficient**"
   ]
  },
  {
   "cell_type": "code",
   "execution_count": 175,
   "id": "6a73ef82-39e4-41be-8189-2a738ad806f1",
   "metadata": {},
   "outputs": [
    {
     "name": "stdout",
     "output_type": "stream",
     "text": [
      "Intercept:  48416.297661385026\n",
      "Coefficient: [0.8516228]\n"
     ]
    }
   ],
   "source": [
    "# printing the model intercept and coefficient\n",
    "reg.intercept_\n",
    "reg.coef_\n",
    "print('Intercept: ', reg.intercept_)\n",
    "print('Coefficient:',reg.coef_)"
   ]
  },
  {
   "cell_type": "code",
   "execution_count": 176,
   "id": "79079333-957b-4f12-9755-86b980f27271",
   "metadata": {},
   "outputs": [
    {
     "data": {
      "text/plain": [
       "array([48420.55577538])"
      ]
     },
     "execution_count": 176,
     "metadata": {},
     "output_type": "execute_result"
    }
   ],
   "source": [
    "reg.predict(np.array([5]).reshape(-1,1))"
   ]
  },
  {
   "cell_type": "code",
   "execution_count": 177,
   "id": "d312efe3-3b62-4721-a12b-4ed9ee998f2d",
   "metadata": {},
   "outputs": [
    {
     "name": "stderr",
     "output_type": "stream",
     "text": [
      "C:\\Users\\sravh\\anaconda3\\lib\\site-packages\\seaborn\\_decorators.py:36: FutureWarning: Pass the following variables as keyword args: x, y. From version 0.12, the only valid positional argument will be `data`, and passing other arguments without an explicit keyword will result in an error or misinterpretation.\n",
      "  warnings.warn(\n"
     ]
    },
    {
     "data": {
      "image/png": "[encoded data removed]",
      "text/plain": [
       "<Figure size 864x720 with 1 Axes>"
      ]
     },
     "metadata": {
      "needs_background": "light"
     },
     "output_type": "display_data"
    }
   ],
   "source": [
    "# best fit line\n",
    "plt.figure(figsize=(12,10));\n",
    "sns.regplot(X,y);\n",
    "plt.xlabel('R&D Spend')\n",
    "plt.ylabel(\"Profit\")\n",
    "plt.show()"
   ]
  },
  {
   "cell_type": "code",
   "execution_count": 178,
   "id": "9e5ed945-5054-4a1a-a74a-8bcc50adbb9c",
   "metadata": {},
   "outputs": [
    {
     "name": "stdout",
     "output_type": "stream",
     "text": [
      "Prediction for test set: [103689.91115505 134381.00844405 134993.66803583  74142.83787227\n",
      " 179351.31903903 113146.78758449  68437.06457928  98882.91220072\n",
      " 113866.50863458 169623.95155023]\n"
     ]
    }
   ],
   "source": [
    "# prediction for treaning and testing dataset\n",
    "print(\"Prediction for test set: {}\".format(y_pred))"
   ]
  },
  {
   "cell_type": "code",
   "execution_count": 179,
   "id": "70f9c29f-f31a-401f-824c-56e85bf46a78",
   "metadata": {},
   "outputs": [
    {
     "data": {
      "text/html": [
       "<div>\n",
       "<style scoped>\n",
       "    .dataframe tbody tr th:only-of-type {\n",
       "        vertical-align: middle;\n",
       "    }\n",
       "\n",
       "    .dataframe tbody tr th {\n",
       "        vertical-align: top;\n",
       "    }\n",
       "\n",
       "    .dataframe thead th {\n",
       "        text-align: right;\n",
       "    }\n",
       "</style>\n",
       "<table border=\"1\" class=\"dataframe\">\n",
       "  <thead>\n",
       "    <tr style=\"text-align: right;\">\n",
       "      <th></th>\n",
       "      <th>Actual value</th>\n",
       "      <th>Predicted value</th>\n",
       "    </tr>\n",
       "  </thead>\n",
       "  <tbody>\n",
       "    <tr>\n",
       "      <th>0</th>\n",
       "      <td>103282.38</td>\n",
       "      <td>103689.911155</td>\n",
       "    </tr>\n",
       "    <tr>\n",
       "      <th>1</th>\n",
       "      <td>144259.40</td>\n",
       "      <td>134381.008444</td>\n",
       "    </tr>\n",
       "    <tr>\n",
       "      <th>2</th>\n",
       "      <td>146121.95</td>\n",
       "      <td>134993.668036</td>\n",
       "    </tr>\n",
       "    <tr>\n",
       "      <th>3</th>\n",
       "      <td>77798.83</td>\n",
       "      <td>74142.837872</td>\n",
       "    </tr>\n",
       "    <tr>\n",
       "      <th>4</th>\n",
       "      <td>191050.39</td>\n",
       "      <td>179351.319039</td>\n",
       "    </tr>\n",
       "    <tr>\n",
       "      <th>5</th>\n",
       "      <td>105008.31</td>\n",
       "      <td>113146.787584</td>\n",
       "    </tr>\n",
       "    <tr>\n",
       "      <th>6</th>\n",
       "      <td>81229.06</td>\n",
       "      <td>68437.064579</td>\n",
       "    </tr>\n",
       "    <tr>\n",
       "      <th>7</th>\n",
       "      <td>97483.56</td>\n",
       "      <td>98882.912201</td>\n",
       "    </tr>\n",
       "    <tr>\n",
       "      <th>8</th>\n",
       "      <td>110352.25</td>\n",
       "      <td>113866.508635</td>\n",
       "    </tr>\n",
       "    <tr>\n",
       "      <th>9</th>\n",
       "      <td>166187.94</td>\n",
       "      <td>169623.951550</td>\n",
       "    </tr>\n",
       "  </tbody>\n",
       "</table>\n",
       "</div>"
      ],
      "text/plain": [
       "   Actual value  Predicted value\n",
       "0     103282.38    103689.911155\n",
       "1     144259.40    134381.008444\n",
       "2     146121.95    134993.668036\n",
       "3      77798.83     74142.837872\n",
       "4     191050.39    179351.319039\n",
       "5     105008.31    113146.787584\n",
       "6      81229.06     68437.064579\n",
       "7      97483.56     98882.912201\n",
       "8     110352.25    113866.508635\n",
       "9     166187.94    169623.951550"
      ]
     },
     "execution_count": 179,
     "metadata": {},
     "output_type": "execute_result"
    }
   ],
   "source": [
    "#Actual values and predicted values\n",
    "val_diff = pd.DataFrame({'Actual value': y_test, 'Predicted value': y_pred})\n",
    "val_diff"
   ]
  },
  {
   "cell_type": "markdown",
   "id": "ceac21b8-2f9b-44ab-815e-dd844f9d9e8e",
   "metadata": {},
   "source": [
    "<h2 style='color:red'> Simple Linear Regression : </h2>"
   ]
  },
  {
   "cell_type": "code",
   "execution_count": 180,
   "id": "78e27f1e-d6a1-4011-9697-ccacd8c62668",
   "metadata": {},
   "outputs": [
    {
     "name": "stdout",
     "output_type": "stream",
     "text": [
      "R squared value of the model: 94.61\n"
     ]
    }
   ],
   "source": [
    "# print the R-squared value for the model\n",
    "from sklearn.metrics import accuracy_score\n",
    "print('R squared value of the model: {:.2f}'.format(reg.score(X,y)*100))"
   ]
  },
  {
   "cell_type": "markdown",
   "id": "a63e7323-127e-42bd-8fb8-c16f25998cc3",
   "metadata": {},
   "source": [
    "<h2 style='color:green'> Evaluation Metrics : </h2>"
   ]
  },
  {
   "cell_type": "markdown",
   "id": "e0158fd4-3457-446f-924c-d467a18ee56d",
   "metadata": {},
   "source": [
    "- **print the R2 and MSE values for the model** "
   ]
  },
  {
   "cell_type": "markdown",
   "id": "dc200d0e-ef68-4c18-b6d2-9cc371aa4b2e",
   "metadata": {},
   "source": [
    "- **FOR MSE :**"
   ]
  },
  {
   "cell_type": "code",
   "execution_count": 181,
   "id": "b9747279-d0f6-4af5-b5a7-eccceb24d6e2",
   "metadata": {},
   "outputs": [],
   "source": [
    "from sklearn.metrics import *"
   ]
  },
  {
   "cell_type": "code",
   "execution_count": 182,
   "id": "26490db7-9eb2-42bd-b7d5-1246e5dfef84",
   "metadata": {},
   "outputs": [
    {
     "name": "stdout",
     "output_type": "stream",
     "text": [
      "mean_squared_error 90128072.57027796\n",
      "mean_squared_error 62780624.05797684\n"
     ]
    }
   ],
   "source": [
    "MSE=mean_squared_error(y_train,y_train_pred)\n",
    "print('mean_squared_error',MSE)\n",
    "\n",
    "mse=mean_squared_error(y_test,y_pred)\n",
    "print('mean_squared_error',mse)"
   ]
  },
  {
   "cell_type": "markdown",
   "id": "91817ef8-0ef1-43f1-99ae-c3302cf6a254",
   "metadata": {},
   "source": [
    "- **FOR R2 :**"
   ]
  },
  {
   "cell_type": "code",
   "execution_count": 183,
   "id": "1c0b64d2-b5a2-4870-8742-5f64576fc604",
   "metadata": {},
   "outputs": [
    {
     "name": "stdout",
     "output_type": "stream",
     "text": [
      "r2_score 0.9449589778363044\n",
      "r2_score 0.9509101284256971\n"
     ]
    }
   ],
   "source": [
    "R2=r2_score(y_train,y_train_pred)\n",
    "print('r2_score',R2)\n",
    "\n",
    "r2=r2_score(y_test,y_pred)\n",
    "print('r2_score',r2)"
   ]
  },
  {
   "cell_type": "markdown",
   "id": "9b923feb-d4a5-4f93-b8d0-7f97c66244fd",
   "metadata": {},
   "source": [
    "- **94.64% of data fit the simple linear regression model**"
   ]
  },
  {
   "cell_type": "markdown",
   "id": "241fd801-98f6-4622-bdb8-b8770ff6387c",
   "metadata": {},
   "source": [
    "### Cross-validation for Simple linear regression :\n",
    "\n",
    "**k-Fold :**"
   ]
  },
  {
   "cell_type": "code",
   "execution_count": 184,
   "id": "75891549-77b3-4560-af97-d4ab26ab5866",
   "metadata": {},
   "outputs": [],
   "source": [
    "from sklearn.model_selection import KFold\n",
    "from sklearn.model_selection import cross_val_score\n",
    "lm = LinearRegression()"
   ]
  },
  {
   "cell_type": "code",
   "execution_count": 185,
   "id": "97461dc6-e208-4576-b9c7-ee76f6ee2a63",
   "metadata": {},
   "outputs": [
    {
     "name": "stdout",
     "output_type": "stream",
     "text": [
      "Cross_v_train : [0.81191441 0.90128655 0.91201139 0.9215112  0.98800854]\n",
      "Cross_v_test : [ 0.91330627  0.97043243  0.93409069 -0.98801112  0.89352864]\n"
     ]
    }
   ],
   "source": [
    "score_train = cross_val_score(lm, X_train, y_train, scoring='r2', cv=5)\n",
    "score_test = cross_val_score(lm,X_test,y_test,scoring='r2',cv=5)\n",
    "\n",
    "print(\"Cross_v_train :\",score_train)\n",
    "print(\"Cross_v_test :\",score_test)"
   ]
  },
  {
   "cell_type": "code",
   "execution_count": 186,
   "id": "75ce7e07-b308-469a-972d-f1418222f107",
   "metadata": {},
   "outputs": [
    {
     "name": "stdout",
     "output_type": "stream",
     "text": [
      "accuracy_score_train : 0.9069464167035113\n",
      "accuracy_score_test : 0.9398738308294995\n"
     ]
    }
   ],
   "source": [
    "accuracy_train=np.mean(abs(score_train))\n",
    "print(\"accuracy_score_train :\",accuracy_train)\n",
    "\n",
    "accuracy_test=np.mean(abs(score_test))\n",
    "print(\"accuracy_score_test :\",accuracy_test)      \n",
    "      "
   ]
  },
  {
   "cell_type": "markdown",
   "id": "0d3aba39-59ea-4a87-8e5a-1b7f54a7243c",
   "metadata": {},
   "source": [
    "<h2 style=\"color:blue\"> Apply Regularization for more accuraccy :</h2>\n",
    "\n",
    "- **Using Lasso Regression Model(L1 Regularization) :**"
   ]
  },
  {
   "cell_type": "code",
   "execution_count": 187,
   "id": "9927554e-affa-4393-8b6b-e7291d1d0b0d",
   "metadata": {},
   "outputs": [
    {
     "data": {
      "text/plain": [
       "Lasso(alpha=50, max_iter=100, tol=0.1)"
      ]
     },
     "execution_count": 187,
     "metadata": {},
     "output_type": "execute_result"
    }
   ],
   "source": [
    "from sklearn import linear_model\n",
    "lasso_reg = linear_model.Lasso(alpha=50, max_iter=100, tol=0.1)\n",
    "lasso_reg.fit(X_train, y_train)"
   ]
  },
  {
   "cell_type": "code",
   "execution_count": 188,
   "id": "7303fb1a-292d-40f9-a9aa-e2f7d78aa332",
   "metadata": {},
   "outputs": [
    {
     "name": "stdout",
     "output_type": "stream",
     "text": [
      "Lasso_Regression_test_score : 0.9464587594621938\n",
      "Lasso_Regression_train_score : 0.9449589778363037\n"
     ]
    }
   ],
   "source": [
    "print(\"Lasso_Regression_test_score :\",lasso_reg.score(X_test, y_test))\n",
    "\n",
    "print(\"Lasso_Regression_train_score :\",lasso_reg.score(X_train, y_train))"
   ]
  },
  {
   "cell_type": "markdown",
   "id": "45ecfb77-306d-4d7d-8416-942fe60120c2",
   "metadata": {},
   "source": [
    "- **Using Ridge Regression Model (L2 Regularization):**"
   ]
  },
  {
   "cell_type": "code",
   "execution_count": 189,
   "id": "fca3f38d-7d65-47e8-bd4b-63b826dc1bdd",
   "metadata": {},
   "outputs": [
    {
     "data": {
      "text/plain": [
       "Ridge(alpha=50, max_iter=100, tol=0.1)"
      ]
     },
     "execution_count": 189,
     "metadata": {},
     "output_type": "execute_result"
    }
   ],
   "source": [
    "from sklearn.linear_model import Ridge\n",
    "ridge_reg= Ridge(alpha=50, max_iter=100, tol=0.1)\n",
    "ridge_reg.fit(X_train, y_train)"
   ]
  },
  {
   "cell_type": "code",
   "execution_count": 190,
   "id": "bccd342f-ebcc-4746-85fd-bd8218548f68",
   "metadata": {},
   "outputs": [
    {
     "name": "stdout",
     "output_type": "stream",
     "text": [
      "Ridge_regression_test_score : 0.9464587607506924\n",
      "Ridge_regression_train_score : 0.9449589778363044\n"
     ]
    }
   ],
   "source": [
    "print (\"Ridge_regression_test_score :\",ridge_reg.score(X_test,y_test))\n",
    "\n",
    "print(\"Ridge_regression_train_score :\",ridge_reg.score(X_train,y_train))"
   ]
  },
  {
   "cell_type": "markdown",
   "id": "713cfac3-3e44-4fe1-a29a-be724188ca29",
   "metadata": {},
   "source": [
    "- **Using Elasticnet Regression Model :**"
   ]
  },
  {
   "cell_type": "code",
   "execution_count": 191,
   "id": "b6421902-a775-4ed8-aca4-02ed26081808",
   "metadata": {},
   "outputs": [
    {
     "data": {
      "text/plain": [
       "ElasticNet(alpha=50, max_iter=100, tol=0.1)"
      ]
     },
     "execution_count": 191,
     "metadata": {},
     "output_type": "execute_result"
    }
   ],
   "source": [
    "from sklearn.linear_model import ElasticNet\n",
    "Elast_reg=ElasticNet(alpha=50, max_iter=100, tol=0.1)\n",
    "Elast_reg.fit(X_train,y_train)"
   ]
  },
  {
   "cell_type": "code",
   "execution_count": 192,
   "id": "64c7e21c-4502-415c-a22d-e872084ccabc",
   "metadata": {},
   "outputs": [
    {
     "name": "stdout",
     "output_type": "stream",
     "text": [
      "Elasticnet_regression_test_score : 0.9464587595598652\n",
      "Elasticnet_regression_test_score : 0.9449589778363038\n"
     ]
    }
   ],
   "source": [
    "print (\"Elasticnet_regression_test_score :\",Elast_reg.score(X_test,y_test))\n",
    "\n",
    "print (\"Elasticnet_regression_test_score :\",Elast_reg.score(X_train,y_train))"
   ]
  },
  {
   "cell_type": "markdown",
   "id": "5b293674-4a05-448e-8530-2dab12de44a6",
   "metadata": {},
   "source": [
    "- **We see that Lasso, Ridge and Elasticnet Regularizatrion prove to be beneficial when our Simple Linear Regression Model is not perform good,they gives more accuracy than simple Linear Regression**"
   ]
  },
  {
   "cell_type": "markdown",
   "id": "b0fc8cfd-e180-411e-8971-a09140cae43a",
   "metadata": {},
   "source": [
    "### Cross Validation :\n",
    "\n",
    "**KFold for Ridge**"
   ]
  },
  {
   "cell_type": "code",
   "execution_count": 193,
   "id": "eea27d72-412a-4ae4-9cd6-d1527489accc",
   "metadata": {},
   "outputs": [],
   "source": [
    "from sklearn.model_selection import KFold\n",
    "from sklearn.model_selection import cross_val_score"
   ]
  },
  {
   "cell_type": "code",
   "execution_count": 194,
   "id": "10a42ad1-f593-41c8-ac43-e7d6fe3681b8",
   "metadata": {},
   "outputs": [
    {
     "name": "stdout",
     "output_type": "stream",
     "text": [
      "Cross_V_train : [0.81191441 0.90128655 0.91201139 0.9215112  0.98800854]\n",
      "Cross_V__test : [ 0.91330627  0.97043243  0.93409069 -0.98801112  0.89352864]\n"
     ]
    }
   ],
   "source": [
    "lm = Ridge()\n",
    "\n",
    "fold=KFold(n_splits=5,shuffle=True,random_state=100)\n",
    "\n",
    "score_train=cross_val_score(lm,X_train,y_train,cv=5)\n",
    "score_test=cross_val_score(lm,X_test,y_test,cv=5)\n",
    "\n",
    "print(\"Cross_V_train :\",score_train)\n",
    "print(\"Cross_V__test :\",score_test)"
   ]
  },
  {
   "cell_type": "code",
   "execution_count": 195,
   "id": "349f9bbe-c047-4783-99de-7fb8845841b2",
   "metadata": {},
   "outputs": [
    {
     "name": "stdout",
     "output_type": "stream",
     "text": [
      "accuracy_score_train : 0.9069464167052839\n",
      "accuracy_score_test : 0.9398738306134236\n"
     ]
    }
   ],
   "source": [
    "accuracy_train=np.mean(abs(score_train))\n",
    "accuracy_test=np.mean(abs(score_test))\n",
    "\n",
    "print(\"accuracy_score_train :\",accuracy_train)\n",
    "print(\"accuracy_score_test :\",accuracy_test)"
   ]
  },
  {
   "cell_type": "markdown",
   "id": "1e2b51a3-a59a-4571-be2a-baac9e30d9c5",
   "metadata": {},
   "source": [
    "<h2 style='color:red'> Multiple Linear Regression : </h2>"
   ]
  },
  {
   "cell_type": "code",
   "execution_count": 196,
   "id": "1acdf4b2-31af-4250-a102-660c68aa78ff",
   "metadata": {},
   "outputs": [],
   "source": [
    "X=df[['R&D Spend','Marketing Spend']] # independent variable\n",
    "y =df['Profit'] # dependent variable\n"
   ]
  },
  {
   "cell_type": "code",
   "execution_count": 197,
   "id": "0e9a6400-90f4-408c-9941-25d95f14c264",
   "metadata": {},
   "outputs": [
    {
     "data": {
      "text/html": [
       "<div>\n",
       "<style scoped>\n",
       "    .dataframe tbody tr th:only-of-type {\n",
       "        vertical-align: middle;\n",
       "    }\n",
       "\n",
       "    .dataframe tbody tr th {\n",
       "        vertical-align: top;\n",
       "    }\n",
       "\n",
       "    .dataframe thead th {\n",
       "        text-align: right;\n",
       "    }\n",
       "</style>\n",
       "<table border=\"1\" class=\"dataframe\">\n",
       "  <thead>\n",
       "    <tr style=\"text-align: right;\">\n",
       "      <th></th>\n",
       "      <th>R&amp;D Spend</th>\n",
       "      <th>Marketing Spend</th>\n",
       "    </tr>\n",
       "  </thead>\n",
       "  <tbody>\n",
       "  </tbody>\n",
       "</table>\n",
       "</div>"
      ],
      "text/plain": [
       "Empty DataFrame\n",
       "Columns: [R&D Spend, Marketing Spend]\n",
       "Index: []"
      ]
     },
     "execution_count": 197,
     "metadata": {},
     "output_type": "execute_result"
    }
   ],
   "source": [
    "X.head(0)"
   ]
  },
  {
   "cell_type": "code",
   "execution_count": 198,
   "id": "ff1316da-855f-4e7e-af04-a58c1a31d752",
   "metadata": {},
   "outputs": [],
   "source": [
    "X_train, X_test, y_train, y_test= train_test_split(X, y, test_size= 0.2, random_state=2) "
   ]
  },
  {
   "cell_type": "code",
   "execution_count": 199,
   "id": "2653c736-0b2d-410e-9727-f80953b62b23",
   "metadata": {},
   "outputs": [],
   "source": [
    "mlr= LinearRegression()"
   ]
  },
  {
   "cell_type": "code",
   "execution_count": 200,
   "id": "ebbecf8f-7825-4c19-b2fe-d469b5d43d8a",
   "metadata": {},
   "outputs": [
    {
     "data": {
      "text/plain": [
       "LinearRegression()"
      ]
     },
     "execution_count": 200,
     "metadata": {},
     "output_type": "execute_result"
    }
   ],
   "source": [
    "mlr.fit(X_train, y_train)  "
   ]
  },
  {
   "cell_type": "code",
   "execution_count": 201,
   "id": "f44cf346-961c-4095-a491-06d36c0b3b62",
   "metadata": {},
   "outputs": [],
   "source": [
    "#Predicting the Test Dataset result;  \n",
    "y_test_pred= mlr.predict(X_test)  "
   ]
  },
  {
   "cell_type": "code",
   "execution_count": 202,
   "id": "f9adc31f-a412-40ca-a6d7-cf39bf0056f8",
   "metadata": {},
   "outputs": [],
   "source": [
    "y_train_pred=mlr.predict(X_train)"
   ]
  },
  {
   "cell_type": "code",
   "execution_count": 203,
   "id": "ddf5fd3d-aafc-4dad-85c5-3d28d4085a37",
   "metadata": {},
   "outputs": [
    {
     "name": "stdout",
     "output_type": "stream",
     "text": [
      "Prediction for test set: [ 75825.06177863  44652.66533558 104213.72561135 154274.5353898\n",
      " 128031.43069268 190665.41241436  65592.65023803  55415.09219744\n",
      "  83295.09784117 109118.69178111]\n"
     ]
    }
   ],
   "source": [
    "print(\"Prediction for test set: {}\".format(y_test_pred))"
   ]
  },
  {
   "cell_type": "code",
   "execution_count": 204,
   "id": "fe3126a4-65f8-47b0-9b1f-2ee3c6714d98",
   "metadata": {},
   "outputs": [
    {
     "data": {
      "text/html": [
       "<div>\n",
       "<style scoped>\n",
       "    .dataframe tbody tr th:only-of-type {\n",
       "        vertical-align: middle;\n",
       "    }\n",
       "\n",
       "    .dataframe tbody tr th {\n",
       "        vertical-align: top;\n",
       "    }\n",
       "\n",
       "    .dataframe thead th {\n",
       "        text-align: right;\n",
       "    }\n",
       "</style>\n",
       "<table border=\"1\" class=\"dataframe\">\n",
       "  <thead>\n",
       "    <tr style=\"text-align: right;\">\n",
       "      <th></th>\n",
       "      <th>Actual value</th>\n",
       "      <th>Predicted value</th>\n",
       "    </tr>\n",
       "  </thead>\n",
       "  <tbody>\n",
       "    <tr>\n",
       "      <th>36</th>\n",
       "      <td>90708.19</td>\n",
       "      <td>75825.061779</td>\n",
       "    </tr>\n",
       "    <tr>\n",
       "      <th>47</th>\n",
       "      <td>42559.73</td>\n",
       "      <td>44652.665336</td>\n",
       "    </tr>\n",
       "    <tr>\n",
       "      <th>28</th>\n",
       "      <td>103282.38</td>\n",
       "      <td>104213.725611</td>\n",
       "    </tr>\n",
       "    <tr>\n",
       "      <th>9</th>\n",
       "      <td>149759.96</td>\n",
       "      <td>154274.535390</td>\n",
       "    </tr>\n",
       "    <tr>\n",
       "      <th>13</th>\n",
       "      <td>134307.35</td>\n",
       "      <td>128031.430693</td>\n",
       "    </tr>\n",
       "    <tr>\n",
       "      <th>0</th>\n",
       "      <td>192261.83</td>\n",
       "      <td>190665.412414</td>\n",
       "    </tr>\n",
       "    <tr>\n",
       "      <th>44</th>\n",
       "      <td>65200.33</td>\n",
       "      <td>65592.650238</td>\n",
       "    </tr>\n",
       "    <tr>\n",
       "      <th>46</th>\n",
       "      <td>49490.75</td>\n",
       "      <td>55415.092197</td>\n",
       "    </tr>\n",
       "    <tr>\n",
       "      <th>39</th>\n",
       "      <td>81005.76</td>\n",
       "      <td>83295.097841</td>\n",
       "    </tr>\n",
       "    <tr>\n",
       "      <th>23</th>\n",
       "      <td>108733.99</td>\n",
       "      <td>109118.691781</td>\n",
       "    </tr>\n",
       "  </tbody>\n",
       "</table>\n",
       "</div>"
      ],
      "text/plain": [
       "    Actual value  Predicted value\n",
       "36      90708.19     75825.061779\n",
       "47      42559.73     44652.665336\n",
       "28     103282.38    104213.725611\n",
       "9      149759.96    154274.535390\n",
       "13     134307.35    128031.430693\n",
       "0      192261.83    190665.412414\n",
       "44      65200.33     65592.650238\n",
       "46      49490.75     55415.092197\n",
       "39      81005.76     83295.097841\n",
       "23     108733.99    109118.691781"
      ]
     },
     "execution_count": 204,
     "metadata": {},
     "output_type": "execute_result"
    }
   ],
   "source": [
    "#Actual value and the predicted value\n",
    "mlr_diff = pd.DataFrame({'Actual value': y_test, 'Predicted value': y_test_pred})\n",
    "mlr_diff"
   ]
  },
  {
   "cell_type": "code",
   "execution_count": 205,
   "id": "473fefa4-f002-47fe-8f98-df918cf820cf",
   "metadata": {},
   "outputs": [
    {
     "name": "stdout",
     "output_type": "stream",
     "text": [
      "Intercept : 44652.66533558165\n"
     ]
    },
    {
     "data": {
      "text/plain": [
       "[('R&D Spend', 0.809148963727293), ('Marketing Spend', 17.791859885569377)]"
      ]
     },
     "execution_count": 205,
     "metadata": {},
     "output_type": "execute_result"
    }
   ],
   "source": [
    "# printing the model intercept and coefficient\n",
    "#Printing the model coefficients\n",
    "print(\"Intercept :\",mlr.intercept_)\n",
    "# pair the feature names with the coefficients\n",
    "list(zip(X, mlr.coef_))"
   ]
  },
  {
   "cell_type": "code",
   "execution_count": 206,
   "id": "2b075739-34b9-4444-b026-94fdbc74d659",
   "metadata": {},
   "outputs": [
    {
     "name": "stdout",
     "output_type": "stream",
     "text": [
      "R squared value of the model: 95.02\n"
     ]
    }
   ],
   "source": [
    "# print the R-squared value for the model\n",
    "from sklearn.metrics import accuracy_score\n",
    "print('R squared value of the model: {:.2f}'.format(mlr.score(X,y)*100))"
   ]
  },
  {
   "cell_type": "markdown",
   "id": "446376f1-aa1d-494d-bdbe-8f5c6c824f17",
   "metadata": {},
   "source": [
    "- **FOR MSE :**"
   ]
  },
  {
   "cell_type": "code",
   "execution_count": 207,
   "id": "e3c7d95a-24a0-4717-98ae-d89b66396869",
   "metadata": {},
   "outputs": [
    {
     "name": "stdout",
     "output_type": "stream",
     "text": [
      "MSE_train_set 90944171.66486803\n",
      "MSE_test_set 3084885464.6228476\n"
     ]
    }
   ],
   "source": [
    "MSE=mean_squared_error(y_train,y_train_pred)\n",
    "print('MSE_train_set',MSE)\n",
    "\n",
    "mse=mean_squared_error(y_test,y_pred)\n",
    "print('MSE_test_set',mse)"
   ]
  },
  {
   "cell_type": "markdown",
   "id": "2aeb09d5-595d-49ef-b285-f813e0045b01",
   "metadata": {},
   "source": [
    "- **FOR R2 :**"
   ]
  },
  {
   "cell_type": "code",
   "execution_count": 208,
   "id": "714835b3-243c-4793-a1f2-4e25599cfeeb",
   "metadata": {},
   "outputs": [
    {
     "name": "stdout",
     "output_type": "stream",
     "text": [
      "R2_train_set 0.9378715331898451\n",
      "R2_test_set 0.9832896611760213\n"
     ]
    }
   ],
   "source": [
    "R2=r2_score(y_train,y_train_pred)\n",
    "print('R2_train_set',R2)\n",
    "\n",
    "r2=r2_score(y_test,y_test_pred)\n",
    "print('R2_test_set',r2)"
   ]
  },
  {
   "cell_type": "markdown",
   "id": "2507a2a4-a9dd-467a-8b3d-440504cb751b",
   "metadata": {},
   "source": [
    "- **95.09% OF data fit the multiple regression model**"
   ]
  },
  {
   "cell_type": "markdown",
   "id": "a6baf7ad-f1fe-47e9-a8d4-e54a7b1a8a1a",
   "metadata": {},
   "source": [
    "<h2 style='color:blue'>K-Fold for Multiple Linear Regression</h2>"
   ]
  },
  {
   "cell_type": "code",
   "execution_count": 209,
   "id": "23c8ac54-5fe3-4eac-a4d6-fa8fb5f92401",
   "metadata": {},
   "outputs": [],
   "source": [
    "from sklearn.model_selection import KFold\n",
    "from sklearn.model_selection import cross_val_score\n",
    "lm = LinearRegression()"
   ]
  },
  {
   "cell_type": "code",
   "execution_count": 210,
   "id": "c8c668be-8252-4169-be1e-90cb7e4631e7",
   "metadata": {},
   "outputs": [
    {
     "name": "stdout",
     "output_type": "stream",
     "text": [
      "Cross_v_train : [0.944517   0.80546208 0.8138877  0.96067737 0.91182818]\n",
      "Cross_v_test : [0.98807544 0.94063616 0.79036894 0.98511162 0.95118121]\n"
     ]
    }
   ],
   "source": [
    "fold=KFold(n_splits=5,shuffle=True,random_state=2)\n",
    "\n",
    "score_train = cross_val_score(lm, X_train, y_train, scoring='r2', cv=fold)\n",
    "score_test = cross_val_score(lm,X_test,y_test,scoring='r2',cv=fold)\n",
    "\n",
    "print(\"Cross_v_train :\",score_train)\n",
    "print(\"Cross_v_test :\",score_test)"
   ]
  },
  {
   "cell_type": "code",
   "execution_count": 211,
   "id": "b849836e-bea5-4444-b8a1-76a1751618fc",
   "metadata": {},
   "outputs": [
    {
     "name": "stdout",
     "output_type": "stream",
     "text": [
      "accuracy_score_train : 0.8872744664984298\n",
      "accuracy_score_test : 0.9310746744151182\n"
     ]
    }
   ],
   "source": [
    "accuracy_train=np.mean(abs(score_train))\n",
    "print(\"accuracy_score_train :\",accuracy_train)\n",
    "\n",
    "accuracy_test=np.mean(abs(score_test))\n",
    "print(\"accuracy_score_test :\",accuracy_test) "
   ]
  },
  {
   "cell_type": "markdown",
   "id": "28596653-a52c-4ed9-9e7e-8a74367b3533",
   "metadata": {},
   "source": [
    "<h2 style=\"color:red\">Regularization for Multiple Linear Regression :</h2>"
   ]
  },
  {
   "cell_type": "markdown",
   "id": "b49ff984-7d53-4852-b7ce-21ba3a2c1ddc",
   "metadata": {},
   "source": [
    "- **Using Lasso Regression Model(L1 Regularization) :**"
   ]
  },
  {
   "cell_type": "code",
   "execution_count": 212,
   "id": "d0543658-b748-4087-a7da-3b6455fcfd24",
   "metadata": {},
   "outputs": [
    {
     "data": {
      "text/plain": [
       "Lasso(alpha=50, max_iter=100, tol=0.1)"
      ]
     },
     "execution_count": 212,
     "metadata": {},
     "output_type": "execute_result"
    }
   ],
   "source": [
    "from sklearn import linear_model\n",
    "lasso_reg = linear_model.Lasso(alpha=50, max_iter=100, tol=0.1)\n",
    "lasso_reg.fit(X_train, y_train)"
   ]
  },
  {
   "cell_type": "code",
   "execution_count": 213,
   "id": "4cb06502-45bd-4675-8ddf-5dd88dd869b9",
   "metadata": {},
   "outputs": [
    {
     "name": "stdout",
     "output_type": "stream",
     "text": [
      "Lasso_Regression_test_score : 0.9832187947238761\n",
      "Lasso_Regression_train_score : 0.9378594996562619\n"
     ]
    }
   ],
   "source": [
    "print(\"Lasso_Regression_test_score :\",lasso_reg.score(X_test, y_test))\n",
    "\n",
    "print(\"Lasso_Regression_train_score :\",lasso_reg.score(X_train, y_train))"
   ]
  },
  {
   "cell_type": "markdown",
   "id": "edf89e3c-a04d-4691-a034-4ba704f7f4c8",
   "metadata": {},
   "source": [
    "- **Using Ridge Regression Model (L2 Regularization):**"
   ]
  },
  {
   "cell_type": "code",
   "execution_count": 214,
   "id": "9f14e15f-6434-4a15-896e-80631f2f2c7d",
   "metadata": {},
   "outputs": [
    {
     "data": {
      "text/plain": [
       "Ridge(alpha=50, max_iter=100, tol=0.1)"
      ]
     },
     "execution_count": 214,
     "metadata": {},
     "output_type": "execute_result"
    }
   ],
   "source": [
    "from sklearn.linear_model import Ridge\n",
    "ridge_reg= Ridge(alpha=50, max_iter=100, tol=0.1)\n",
    "ridge_reg.fit(X_train, y_train)"
   ]
  },
  {
   "cell_type": "code",
   "execution_count": 215,
   "id": "0416ea75-f5b8-42df-842d-d89a3da76b33",
   "metadata": {},
   "outputs": [
    {
     "name": "stdout",
     "output_type": "stream",
     "text": [
      "Ridge_regression_test_score : 0.9832895283464417\n",
      "Ridge_regression_train_score : 0.9378715331673816\n"
     ]
    }
   ],
   "source": [
    "print (\"Ridge_regression_test_score :\",ridge_reg.score(X_test,y_test))\n",
    "\n",
    "print(\"Ridge_regression_train_score :\",ridge_reg.score(X_train,y_train))"
   ]
  },
  {
   "cell_type": "markdown",
   "id": "a3fbf9bd-eb19-4c6e-b005-c5cc94a5b2ff",
   "metadata": {},
   "source": [
    "- **Using Elasticnet Regression Model :**"
   ]
  },
  {
   "cell_type": "code",
   "execution_count": 216,
   "id": "885bb86d-cc93-477d-ae00-294a90b61577",
   "metadata": {},
   "outputs": [
    {
     "data": {
      "text/plain": [
       "ElasticNet(alpha=50, max_iter=100, tol=0.1)"
      ]
     },
     "execution_count": 216,
     "metadata": {},
     "output_type": "execute_result"
    }
   ],
   "source": [
    "from sklearn.linear_model import ElasticNet\n",
    "Elast_reg=ElasticNet(alpha=50, max_iter=100, tol=0.1)\n",
    "Elast_reg.fit(X_train,y_train)"
   ]
  },
  {
   "cell_type": "code",
   "execution_count": 217,
   "id": "bc3c3cc2-09a0-4a7e-9781-faaffbec434d",
   "metadata": {},
   "outputs": [
    {
     "name": "stdout",
     "output_type": "stream",
     "text": [
      "Elasticnet_regression_test_score : 0.9832162204477153\n",
      "Elasticnet_regression_train_score : 0.9378591806969481\n"
     ]
    }
   ],
   "source": [
    "print (\"Elasticnet_regression_test_score :\",Elast_reg.score(X_test,y_test))\n",
    "\n",
    "print (\"Elasticnet_regression_train_score :\",Elast_reg.score(X_train,y_train))"
   ]
  },
  {
   "cell_type": "markdown",
   "id": "1b98ddea-1b59-4262-bb72-7cd623607875",
   "metadata": {},
   "source": [
    "- **Applying K-Fold for Elasticnet Regression Model**"
   ]
  },
  {
   "cell_type": "code",
   "execution_count": 218,
   "id": "e20bdf46-b1e2-4a45-aef6-538b4251d574",
   "metadata": {},
   "outputs": [
    {
     "name": "stdout",
     "output_type": "stream",
     "text": [
      "[0.94451692 0.80547301 0.81388692 0.96067731 0.91182815]\n",
      "[0.98807511 0.94063593 0.79038292 0.98511151 0.95118272]\n"
     ]
    }
   ],
   "source": [
    "Es = ElasticNet()\n",
    "fold=KFold(n_splits=5,shuffle=True,random_state=2)\n",
    "\n",
    "score_train=cross_val_score(Es,X_train,y_train,cv=fold)\n",
    "score_test=cross_val_score(Es,X_test,y_test,cv=fold)\n",
    "\n",
    "print(score_train)\n",
    "print(score_test)"
   ]
  },
  {
   "cell_type": "code",
   "execution_count": 219,
   "id": "b42ade7a-8583-4c52-b846-4e72c0fd7024",
   "metadata": {},
   "outputs": [
    {
     "name": "stdout",
     "output_type": "stream",
     "text": [
      "accuracy_score_train : 0.8872764602987597\n",
      "accuracy_score_test : 0.9310776393046215\n"
     ]
    }
   ],
   "source": [
    "accuracy_train=np.mean(abs(score_train))\n",
    "print(\"accuracy_score_train :\",accuracy_train)\n",
    "\n",
    "accuracy_test=np.mean(abs(score_test))\n",
    "print(\"accuracy_score_test :\",accuracy_test) "
   ]
  },
  {
   "cell_type": "code",
   "execution_count": null,
   "id": "31dc84a0-c33d-4296-b367-f19cc89a209a",
   "metadata": {},
   "outputs": [],
   "source": []
  }
 ],
 "metadata": {
  "kernelspec": {
   "display_name": "Python 3 (ipykernel)",
   "language": "python",
   "name": "python3"
  },
  "language_info": {
   "codemirror_mode": {
    "name": "ipython",
    "version": 3
   },
   "file_extension": ".py",
   "mimetype": "text/x-python",
   "name": "python",
   "nbconvert_exporter": "python",
   "pygments_lexer": "ipython3",
   "version": "3.9.12"
  }
 },
 "nbformat": 4,
 "nbformat_minor": 5
}
